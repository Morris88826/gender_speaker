{
 "cells": [
  {
   "cell_type": "code",
   "execution_count": 21,
   "metadata": {},
   "outputs": [],
   "source": [
    "import os\n",
    "import glob\n",
    "import librosa\n",
    "import librosa.display\n",
    "import pandas as pd\n",
    "import matplotlib.pyplot as plt"
   ]
  },
  {
   "cell_type": "code",
   "execution_count": 22,
   "metadata": {},
   "outputs": [],
   "source": [
    "data_dir = \"./LibriSpeech\"\n",
    "out_dir = \"./data\"\n",
    "os.makedirs(out_dir, exist_ok=True)\n",
    "subset = \"dev-clean\""
   ]
  },
  {
   "cell_type": "code",
   "execution_count": 23,
   "metadata": {},
   "outputs": [
    {
     "name": "stdout",
     "output_type": "stream",
     "text": [
      "    id sex     subset minutes             name\n",
      "0   84   F  dev-clean    8.02   Christie Nowak\n",
      "1  174   M  dev-clean    8.04    Peter Eastman\n",
      "2  251   M  dev-clean    8.04      Mark Nelson\n",
      "3  422   M  dev-clean    8.38  President Lethe\n",
      "4  652   M  dev-clean    8.31     Scott Walter\n"
     ]
    }
   ],
   "source": [
    "metadata_path =os.path.join(data_dir, \"SPEAKERS.TXT\")\n",
    "metadata = open(metadata_path).readlines()\n",
    "header = [h.replace(';', '').strip().lower() for h in metadata[11].split(\"|\")]\n",
    "\n",
    "metadata_df = []\n",
    "for i in range(12, len(metadata)):\n",
    "    d = [item.strip() for item in metadata[i].split(\"|\")]\n",
    "    id = d[0]\n",
    "    gender = d[1]\n",
    "    sub = d[2]\n",
    "    minutes = d[3]\n",
    "    name = \" \".join(d[4:])\n",
    "    metadata_df.append([id, gender, sub, minutes, name])\n",
    "\n",
    "metadata_df = pd.DataFrame(metadata_df, columns=header, index=None)\n",
    "metadata_df = metadata_df[metadata_df[\"subset\"] == subset]\n",
    "metadata_df = metadata_df.reset_index(drop=True)\n",
    "print(metadata_df.head())"
   ]
  },
  {
   "cell_type": "code",
   "execution_count": 24,
   "metadata": {},
   "outputs": [
    {
     "name": "stdout",
     "output_type": "stream",
     "text": [
      "info.csv already exists\n"
     ]
    }
   ],
   "source": [
    "subjects = glob.glob(data_dir + f\"/{subset}/*\")\n",
    "\n",
    "data_df = []\n",
    "for subject_path in sorted(subjects, key=lambda x: int(x.split(\"/\")[-1])):\n",
    "    speaker_id = subject_path.split(\"/\")[-1]\n",
    "    \n",
    "    for chapter_path in sorted(glob.glob(subject_path + \"/*\"), key=lambda x: int(x.split(\"/\")[-1])):\n",
    "        chapter_id = chapter_path.split(\"/\")[-1]\n",
    "        \n",
    "        corpus_path = os.path.join(chapter_path, f\"{speaker_id}-{chapter_id}.trans.txt\")\n",
    "        assert os.path.exists(corpus_path)\n",
    "        \n",
    "        with open(corpus_path) as f:\n",
    "            corpus = f.readlines()\n",
    "        \n",
    "        corpus = [c.strip().split() for c in corpus]\n",
    "        corpus_df = {c[0]: \" \".join(c[1:]) for c in corpus}\n",
    "        corpus_df = pd.DataFrame(corpus_df.items(), columns=[\"audio_id\", \"transcript\"])\n",
    "        \n",
    "        audio_paths = sorted(glob.glob(chapter_path + \"/*.flac\"))\n",
    "        for audio_path in audio_paths:\n",
    "            audio_id = audio_path.split(\"/\")[-1].split(\".\")[0]\n",
    "            transcript = corpus_df[corpus_df[\"audio_id\"] == audio_id]['transcript'].values[0]\n",
    "            \n",
    "            data_df.append({\n",
    "                \"speaker_id\": speaker_id,\n",
    "                \"chapter_id\": chapter_id,\n",
    "                \"audio_id\": audio_id,\n",
    "                \"audio_path\": audio_path.replace(data_dir + '/', ''),\n",
    "                \"transcript\": transcript\n",
    "            })\n",
    "\n",
    "data_df = pd.DataFrame(data_df)\n",
    "data_df = pd.merge(data_df, metadata_df, left_on=\"speaker_id\", right_on=\"id\")\n",
    "data_df = data_df.drop(columns=[\"id\"])\n",
    "\n",
    "out_path = f\"{out_dir}/info.csv\"\n",
    "if not os.path.exists(out_path):\n",
    "    data_df.to_csv(out_path, index=False)\n",
    "else:\n",
    "    print(\"info.csv already exists\")\n",
    "    data_df = pd.read_csv(out_path)"
   ]
  },
  {
   "cell_type": "markdown",
   "metadata": {},
   "source": [
    "MFCC Example:"
   ]
  },
  {
   "cell_type": "code",
   "execution_count": 25,
   "metadata": {},
   "outputs": [
    {
     "data": {
      "image/png": "[encoded data removed]",
      "text/plain": [
       "<Figure size 1000x400 with 2 Axes>"
      ]
     },
     "metadata": {},
     "output_type": "display_data"
    }
   ],
   "source": [
    "# Load the audio file\n",
    "audio_file = os.path.join(data_dir, data_df['audio_path'][0])\n",
    "y, sr = librosa.load(audio_file, sr=16000) # the audio file is sampled at 16 kHz\n",
    "\n",
    "# Extract MFCC features\n",
    "mfccs = librosa.feature.mfcc(y=y, sr=sr, n_mfcc=13)  # 13 is the typical number of coefficients\n",
    "\n",
    "# Display the MFCCs as a heatmap\n",
    "plt.figure(figsize=(10, 4))\n",
    "librosa.display.specshow(mfccs, x_axis='time', sr=sr)\n",
    "plt.colorbar(format='%+2.0f dB')\n",
    "plt.title('MFCC')\n",
    "plt.tight_layout()\n",
    "plt.show()"
   ]
  },
  {
   "cell_type": "markdown",
   "metadata": {},
   "source": [
    "#### Cross-Subject split"
   ]
  },
  {
   "cell_type": "code",
   "execution_count": 26,
   "metadata": {},
   "outputs": [],
   "source": [
    "# train_test_split = 0.8\n",
    "\n",
    "# random.seed(0)\n",
    "# all_subjects = male_df['speaker_id'].unique().tolist() + female_df['speaker_id'].unique().tolist()\n",
    "# random.shuffle(all_subjects)\n",
    "\n",
    "# all_train_subjects = all_subjects[:int(train_test_split * len(all_subjects))]\n",
    "# # further split to train and validation\n",
    "# train_subjects = all_train_subjects[:int(train_test_split * len(all_train_subjects))]\n",
    "# val_subjects = all_train_subjects[int(train_test_split * len(all_train_subjects)):]\n",
    "# test_subjects = all_subjects[int(train_test_split * len(all_subjects)):]"
   ]
  },
  {
   "cell_type": "code",
   "execution_count": 27,
   "metadata": {},
   "outputs": [],
   "source": [
    "# metadata_path = \"../data/metadata.json\"\n",
    "\n",
    "# if not os.path.exists(metadata_path):\n",
    "#     metadata = {\n",
    "#         \"train\": train_subjects,\n",
    "#         \"val\": val_subjects,\n",
    "#         \"test\": test_subjects,\n",
    "#     }\n",
    "\n",
    "#     with open(metadata_path, \"w\") as f:\n",
    "#         json.dump(metadata, f, indent=4)\n",
    "\n",
    "# else:\n",
    "#     print(\"metadata.json already exists\")\n",
    "#     with open (metadata_path, \"r\") as f:\n",
    "#         metadata = json.load(f)"
   ]
  },
  {
   "cell_type": "code",
   "execution_count": 28,
   "metadata": {},
   "outputs": [],
   "source": [
    "# train_df = data_df[data_df['speaker_id'].isin(train_subjects)]\n",
    "# val_df = data_df[data_df['speaker_id'].isin(val_subjects)]\n",
    "# test_df = data_df[data_df['speaker_id'].isin(test_subjects)]\n",
    "\n",
    "# print(\"Number of train subjects: {} | # male: {} | # female: {}\".format(len(train_subjects), len(train_df[train_df['sex'] == 'M']['speaker_id'].unique()), len(train_df[train_df['sex'] == 'F']['speaker_id'].unique())))\n",
    "# print(\"Number of validation subjects: {} | # male: {} | # female: {}\".format(len(val_subjects), len(val_df[val_df['sex'] == 'M']['speaker_id'].unique()), len(val_df[val_df['sex'] == 'F']['speaker_id'].unique())))\n",
    "# print(\"Number of test subjects: {} | # male: {} | # female: {}\".format(len(test_subjects), len(test_df[test_df['sex'] == 'M']['speaker_id'].unique()), len(test_df[test_df['sex'] == 'F']['speaker_id'].unique())))"
   ]
  }
 ],
 "metadata": {
  "kernelspec": {
   "display_name": "speech",
   "language": "python",
   "name": "python3"
  },
  "language_info": {
   "codemirror_mode": {
    "name": "ipython",
    "version": 3
   },
   "file_extension": ".py",
   "mimetype": "text/x-python",
   "name": "python",
   "nbconvert_exporter": "python",
   "pygments_lexer": "ipython3",
   "version": "3.11.11"
  }
 },
 "nbformat": 4,
 "nbformat_minor": 2
}
